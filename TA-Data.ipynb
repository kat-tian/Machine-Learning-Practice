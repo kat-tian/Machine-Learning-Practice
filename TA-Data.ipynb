{
 "cells": [
  {
   "cell_type": "markdown",
   "metadata": {
    "collapsed": true
   },
   "source": [
    "# Classification Predictions on Teaching Assistant Evaluations\n",
    "\n",
    "##### By: Kathy Tian  \n"
   ]
  },
  {
   "cell_type": "markdown",
   "metadata": {},
   "source": [
    "## Table of Contents\n",
    "\n",
    "[Introduction](#Introduction)\n",
    "\n",
    "- [Exploratory Analysis](#Exploratory-Analysis)\n",
    "- [Visualizations](#Visualizations)\n",
    "\n",
    "[Logistic Regression](#Logistic-Regression)\n",
    "\n",
    "[Random Forest Classifier](#Random-Forest-Classifier)\n",
    "\n",
    "- [Hyperparameter Tuning](#Hyperparameter-Tuning)\n",
    "- [RandomizedSearchCV](#RandomizedSearchCV)\n",
    "- [StratifiedKFold](#StratifiedKFold)\n",
    "\n",
    "[Support Vector Machine: Classification](#Support-Vector-Machine:-Classification)\n",
    "\n",
    "- [GridSearchCV ](#GridSearchCV )\n",
    "\n",
    "-----\n",
    "\n",
    "Before proceeding with the _Introduction_ section of this Notebook, I set up some standard setup codes."
   ]
  },
  {
   "cell_type": "code",
   "execution_count": 79,
   "metadata": {
    "collapsed": true
   },
   "outputs": [],
   "source": [
    "# Set up Notebook\n",
    "% matplotlib inline\n",
    "\n",
    "# Standard imports\n",
    "import numpy as np\n",
    "import pandas as pd\n",
    "import matplotlib.pyplot as plt\n",
    "import seaborn as sns\n",
    "from sklearn.model_selection import train_test_split\n",
    "from sklearn.metrics import accuracy_score, classification_report"
   ]
  },
  {
   "cell_type": "markdown",
   "metadata": {},
   "source": [
    "[[Back to TOC]](#Table-of-Contents)\n",
    "\n",
    "### Introduction \n",
    "\n",
    "\n",
    "\n",
    "In this notebook, I will explore different classification algorithms and will apply them to \"Teaching Assistant Evaluation\" data, which I found from UCI's machine learning repository online. The TA dataset contains 151 instances and 6 attributes (including the class attribute). I will try to predict how students evaluate their teaching assistants (the outcome variable) based on a set of 5 feature values (if the TA is a native English speaker or not, which course it is, the size of the class, which TA it is and summer or regular course). I will see how these three factors influence what grades students' give to their TA's (from low, medium, to high).\n",
    "\n",
    "In this notebook, I will first conduct exploratory analysis on the data to get a rough overview of what stories the data might tell. From there, I will decide which machine learning algorithms to use (in this case, since the label data is categorical, I decided on classification algorithms for my models). I will then train and fit the data to each of models and test their prediction accuracy rates. This is a good way to compare and contrast different machine learning algorithms. \n",
    "\n",
    "\n",
    "\n",
    "A break down of attribute information is as follows: \n",
    "  1. Whether of not the TA is a native English speaker (binary)\n",
    "      1=English speaker, 2=non-English speaker\n",
    "  2. Course instructor (categorical, 25 categories)\n",
    "  3. Course (categorical, 26 categories)\n",
    "  4. Summer or regular semester (binary) 1=Summer, 2=Regular\n",
    "  5. Class size (numerical)\n",
    "  6. Class attribute (categorical) 1=Low, 2=Medium, 3=High\n",
    "\n",
    "-----"
   ]
  },
  {
   "cell_type": "markdown",
   "metadata": {},
   "source": [
    "-----\n",
    "[[Back to TOC]](#Table-of-Contents)\n",
    "\n",
    "### Exploratory Analysis \n",
    "\n",
    "I will begin this notebook with some exploratory analysis of the data. I do this to give me a good idea of the data and understand its attributes. What I am looking to see are perhaps correlations between variables, if variables are categorical or continuous, and the relationship between how many variables we have and how many samples we have.\n",
    "\n",
    "In the code cell below, I first upload the csv file contaning the dataset. I set the column names for all the variables. I then print a random sample set of 5 of the data points. \n",
    "\n",
    "We can see that english_speaker and semester are both binary variables. Course_instructor, course, and score are all categorical variables and class_size is a numerical variable. So far, we don't see any missing data, but to double check this, I will call the describe function to describe our dataset.\n",
    "\n",
    "After calling the describe function, we can see that the dataset contains no null or NaN values - the count across all 6 of our columns is 151, indicating that we have a clean, uniform dataset that will require limited preprocessing. \n",
    "\n",
    "\n",
    "-----"
   ]
  },
  {
   "cell_type": "code",
   "execution_count": 80,
   "metadata": {},
   "outputs": [
    {
     "data": {
      "text/html": [
       "<div>\n",
       "<style>\n",
       "    .dataframe thead tr:only-child th {\n",
       "        text-align: right;\n",
       "    }\n",
       "\n",
       "    .dataframe thead th {\n",
       "        text-align: left;\n",
       "    }\n",
       "\n",
       "    .dataframe tbody tr th {\n",
       "        vertical-align: top;\n",
       "    }\n",
       "</style>\n",
       "<table border=\"1\" class=\"dataframe\">\n",
       "  <thead>\n",
       "    <tr style=\"text-align: right;\">\n",
       "      <th></th>\n",
       "      <th>english_speaker</th>\n",
       "      <th>course_instructor</th>\n",
       "      <th>course</th>\n",
       "      <th>semester</th>\n",
       "      <th>class_size</th>\n",
       "      <th>score</th>\n",
       "    </tr>\n",
       "  </thead>\n",
       "  <tbody>\n",
       "    <tr>\n",
       "      <th>53</th>\n",
       "      <td>2</td>\n",
       "      <td>6</td>\n",
       "      <td>17</td>\n",
       "      <td>2</td>\n",
       "      <td>42</td>\n",
       "      <td>2</td>\n",
       "    </tr>\n",
       "    <tr>\n",
       "      <th>18</th>\n",
       "      <td>2</td>\n",
       "      <td>13</td>\n",
       "      <td>3</td>\n",
       "      <td>1</td>\n",
       "      <td>10</td>\n",
       "      <td>2</td>\n",
       "    </tr>\n",
       "    <tr>\n",
       "      <th>1</th>\n",
       "      <td>2</td>\n",
       "      <td>15</td>\n",
       "      <td>3</td>\n",
       "      <td>1</td>\n",
       "      <td>17</td>\n",
       "      <td>3</td>\n",
       "    </tr>\n",
       "    <tr>\n",
       "      <th>26</th>\n",
       "      <td>2</td>\n",
       "      <td>8</td>\n",
       "      <td>3</td>\n",
       "      <td>2</td>\n",
       "      <td>24</td>\n",
       "      <td>2</td>\n",
       "    </tr>\n",
       "    <tr>\n",
       "      <th>84</th>\n",
       "      <td>1</td>\n",
       "      <td>22</td>\n",
       "      <td>3</td>\n",
       "      <td>2</td>\n",
       "      <td>45</td>\n",
       "      <td>3</td>\n",
       "    </tr>\n",
       "  </tbody>\n",
       "</table>\n",
       "</div>"
      ],
      "text/plain": [
       "    english_speaker  course_instructor  course  semester  class_size  score\n",
       "53                2                  6      17         2          42      2\n",
       "18                2                 13       3         1          10      2\n",
       "1                 2                 15       3         1          17      3\n",
       "26                2                  8       3         2          24      2\n",
       "84                1                 22       3         2          45      3"
      ]
     },
     "execution_count": 80,
     "metadata": {},
     "output_type": "execute_result"
    }
   ],
   "source": [
    "# read csv and label columns\n",
    "col_names = ['english_speaker', 'course_instructor', 'course', 'semester', \n",
    "            'class_size','score']\n",
    "data = pd.read_csv('tae.data.csv', header=None, names=col_names)\n",
    "\n",
    "# view random sample \n",
    "# can see that we are working with classification \n",
    "data.sample(5)"
   ]
  },
  {
   "cell_type": "code",
   "execution_count": 81,
   "metadata": {},
   "outputs": [
    {
     "data": {
      "text/html": [
       "<div>\n",
       "<style>\n",
       "    .dataframe thead tr:only-child th {\n",
       "        text-align: right;\n",
       "    }\n",
       "\n",
       "    .dataframe thead th {\n",
       "        text-align: left;\n",
       "    }\n",
       "\n",
       "    .dataframe tbody tr th {\n",
       "        vertical-align: top;\n",
       "    }\n",
       "</style>\n",
       "<table border=\"1\" class=\"dataframe\">\n",
       "  <thead>\n",
       "    <tr style=\"text-align: right;\">\n",
       "      <th></th>\n",
       "      <th>english_speaker</th>\n",
       "      <th>course_instructor</th>\n",
       "      <th>course</th>\n",
       "      <th>semester</th>\n",
       "      <th>class_size</th>\n",
       "      <th>score</th>\n",
       "    </tr>\n",
       "  </thead>\n",
       "  <tbody>\n",
       "    <tr>\n",
       "      <th>count</th>\n",
       "      <td>151.000000</td>\n",
       "      <td>151.000000</td>\n",
       "      <td>151.000000</td>\n",
       "      <td>151.000000</td>\n",
       "      <td>151.000000</td>\n",
       "      <td>151.000000</td>\n",
       "    </tr>\n",
       "    <tr>\n",
       "      <th>mean</th>\n",
       "      <td>1.807947</td>\n",
       "      <td>13.642384</td>\n",
       "      <td>8.105960</td>\n",
       "      <td>1.847682</td>\n",
       "      <td>27.867550</td>\n",
       "      <td>2.019868</td>\n",
       "    </tr>\n",
       "    <tr>\n",
       "      <th>std</th>\n",
       "      <td>0.395225</td>\n",
       "      <td>6.825779</td>\n",
       "      <td>7.023914</td>\n",
       "      <td>0.360525</td>\n",
       "      <td>12.893758</td>\n",
       "      <td>0.820327</td>\n",
       "    </tr>\n",
       "    <tr>\n",
       "      <th>min</th>\n",
       "      <td>1.000000</td>\n",
       "      <td>1.000000</td>\n",
       "      <td>1.000000</td>\n",
       "      <td>1.000000</td>\n",
       "      <td>3.000000</td>\n",
       "      <td>1.000000</td>\n",
       "    </tr>\n",
       "    <tr>\n",
       "      <th>25%</th>\n",
       "      <td>2.000000</td>\n",
       "      <td>8.000000</td>\n",
       "      <td>3.000000</td>\n",
       "      <td>2.000000</td>\n",
       "      <td>19.000000</td>\n",
       "      <td>1.000000</td>\n",
       "    </tr>\n",
       "    <tr>\n",
       "      <th>50%</th>\n",
       "      <td>2.000000</td>\n",
       "      <td>13.000000</td>\n",
       "      <td>4.000000</td>\n",
       "      <td>2.000000</td>\n",
       "      <td>27.000000</td>\n",
       "      <td>2.000000</td>\n",
       "    </tr>\n",
       "    <tr>\n",
       "      <th>75%</th>\n",
       "      <td>2.000000</td>\n",
       "      <td>20.000000</td>\n",
       "      <td>15.000000</td>\n",
       "      <td>2.000000</td>\n",
       "      <td>37.000000</td>\n",
       "      <td>3.000000</td>\n",
       "    </tr>\n",
       "    <tr>\n",
       "      <th>max</th>\n",
       "      <td>2.000000</td>\n",
       "      <td>25.000000</td>\n",
       "      <td>26.000000</td>\n",
       "      <td>2.000000</td>\n",
       "      <td>66.000000</td>\n",
       "      <td>3.000000</td>\n",
       "    </tr>\n",
       "  </tbody>\n",
       "</table>\n",
       "</div>"
      ],
      "text/plain": [
       "       english_speaker  course_instructor      course    semester  class_size  \\\n",
       "count       151.000000         151.000000  151.000000  151.000000  151.000000   \n",
       "mean          1.807947          13.642384    8.105960    1.847682   27.867550   \n",
       "std           0.395225           6.825779    7.023914    0.360525   12.893758   \n",
       "min           1.000000           1.000000    1.000000    1.000000    3.000000   \n",
       "25%           2.000000           8.000000    3.000000    2.000000   19.000000   \n",
       "50%           2.000000          13.000000    4.000000    2.000000   27.000000   \n",
       "75%           2.000000          20.000000   15.000000    2.000000   37.000000   \n",
       "max           2.000000          25.000000   26.000000    2.000000   66.000000   \n",
       "\n",
       "            score  \n",
       "count  151.000000  \n",
       "mean     2.019868  \n",
       "std      0.820327  \n",
       "min      1.000000  \n",
       "25%      1.000000  \n",
       "50%      2.000000  \n",
       "75%      3.000000  \n",
       "max      3.000000  "
      ]
     },
     "execution_count": 81,
     "metadata": {},
     "output_type": "execute_result"
    }
   ],
   "source": [
    "# describe data \n",
    "# can see we have no missing data\n",
    "data.describe()"
   ]
  },
  {
   "cell_type": "markdown",
   "metadata": {},
   "source": [
    "----\n",
    "[[Back to TOC]](#Table-of-Contents)\n",
    "### Visualizations\n",
    "\n",
    "I first extract the 'score' column from the dataset and set it as the label (y) as a pandas series. I then extract the other variables as the feature (x) variables as a pandas dataframe. \n",
    "\n",
    "I then go on to create some barplots of the data points, with each of the feature variables running on the x-axis and the label data against the y-axis.The graphs, unfortunately, do not tell us much about the relationships between our data. We can see that English speakers get ranked slightly higher than non-native speakers, but the relationship does not appear particularily signifcant. We also see that summer courses are rated slightly higher than regular courses, and that classes that are middle sized appear to have a slight lower rating compared to small or large ones.\n",
    "\n",
    "These relationships do make some sense; students are likely to perfer TA's when their English is more fluent. People may be more indifferent about mid-sized classes, but many may really like either very small or large classes. And perhaps people who chose to take summer courses simply enjoy school work more than other students. Or the sunshine helps!"
   ]
  },
  {
   "cell_type": "code",
   "execution_count": 82,
   "metadata": {
    "collapsed": true
   },
   "outputs": [],
   "source": [
    "# extrat feature and labels\n",
    "label = data['score']\n",
    "features = data.iloc[:,0:5]"
   ]
  },
  {
   "cell_type": "code",
   "execution_count": 83,
   "metadata": {},
   "outputs": [
    {
     "data": {
      "text/plain": [
       "Text(0,0.5,'Rating')"
      ]
     },
     "execution_count": 83,
     "metadata": {},
     "output_type": "execute_result"
    },
    {
     "data": {
      "image/png": "[encoded data removed]",
      "text/plain": [
       "<matplotlib.figure.Figure at 0x18c9d19aba8>"
      ]
     },
     "metadata": {},
     "output_type": "display_data"
    },
    {
     "data": {
      "image/png": "[encoded data removed]",
      "text/plain": [
       "<matplotlib.figure.Figure at 0x18c9c396b70>"
      ]
     },
     "metadata": {},
     "output_type": "display_data"
    },
    {
     "data": {
      "image/png": "[encoded data removed]",
      "text/plain": [
       "<matplotlib.figure.Figure at 0x18c9d3b46a0>"
      ]
     },
     "metadata": {},
     "output_type": "display_data"
    },
    {
     "data": {
      "image/png": "[encoded data removed]",
      "text/plain": [
       "<matplotlib.figure.Figure at 0x18c9d17d390>"
      ]
     },
     "metadata": {},
     "output_type": "display_data"
    },
    {
     "data": {
      "image/png": "[encoded data removed]",
      "text/plain": [
       "<matplotlib.figure.Figure at 0x18c9d324320>"
      ]
     },
     "metadata": {},
     "output_type": "display_data"
    }
   ],
   "source": [
    "# Plot some relationships for intuition \n",
    "grouped_size = data.groupby(\"class_size\").mean()\n",
    "grouped_course = data.groupby(\"course\").mean()\n",
    "\n",
    "plt.figure(figsize = (15,5))\n",
    "plt.bar(range(1,len(grouped_size) +1),grouped_size['score'])\n",
    "plt.title('Ratings by Class Size')\n",
    "plt.xlabel('Class Size')\n",
    "plt.ylabel('Rating')\n",
    "\n",
    "plt.figure(figsize = (15,5))\n",
    "plt.bar(range(1,len(grouped_course) +1),grouped_course['score'])\n",
    "plt.title('Ratings by course')\n",
    "plt.xlabel('Course')\n",
    "plt.ylabel('Rating')\n",
    "\n",
    "plt.figure(figsize = (15,5))\n",
    "eng_mean = data.groupby('english_speaker').mean()\n",
    "plt.bar(range(1,len(eng_mean) +1), eng_mean['score'], width=0.1)\n",
    "plt.title('Ratings by language')\n",
    "plt.xlabel('English Speaker or Not')\n",
    "plt.ylabel('Rating')\n",
    "\n",
    "plt.figure(figsize = (15,5))\n",
    "inst_mean = data.groupby('course_instructor').mean()\n",
    "plt.bar(range(1,len(inst_mean) +1), inst_mean['score'])\n",
    "plt.title('Ratings by Instructor')\n",
    "plt.xlabel('Instructor')\n",
    "plt.ylabel('Rating')\n",
    "\n",
    "plt.figure(figsize = (15,5))\n",
    "semester_mean = data.groupby('semester').mean()\n",
    "plt.bar(range(1,len(semester_mean) +1), semester_mean['score'], width= 0.1 )\n",
    "plt.title('Ratings by Semester')\n",
    "plt.xlabel('Semester')\n",
    "plt.ylabel('Rating')"
   ]
  },
  {
   "cell_type": "markdown",
   "metadata": {},
   "source": [
    "[[Back to TOC]](#Table-of-Contents)\n",
    "\n",
    "### Logistic Regression \n",
    "I will first train and fit the data using a logistic regression model. A logistic regression model would be suitable for this data since the label data data (or the dependent/outcome variable) in this instance is categorical, suggesting that we are facing a classification problem. However, logistic regressions are best for bianary classifications problems (e.g., 0,1), so I should expect that this model would perfrom poorly on my data set, which contains three classes. \n",
    "\n",
    "Unlike a linear regresion, where the output value is suitable for continious variables, the logistic regression works best for classification problems. It calculates the probability that the incoming data point belongs either above or below the threshold point of the sigmoid curve (the threshold is usally set at 0.5 for a function scaled from 0 to 1). If it predicts it to be below 0.5, the model will predict our new data point as belonging to class 0, if above 0.5, it will predict 1 a long our sigmoid. Interestingly, even though it is a classification algorithm, we're still working with probabilities - just the probability that our particular new data point belongs to a certain class. \n",
    "\n",
    "As mentioned, the logistic regression is best used for binary classification (e.g., spam, not spam) and it does not perform particularily well with small datasets, so I expect this model to perform poorly as a predictor. I will use this logistic regresison model for comparison purposes.\n",
    "\n",
    "----\n"
   ]
  },
  {
   "cell_type": "markdown",
   "metadata": {},
   "source": [
    "First, split the data on 80/20 percent split, where we save 20% of our data for testing. Next, fit the logistic regression model and predict using the trained model."
   ]
  },
  {
   "cell_type": "code",
   "execution_count": 84,
   "metadata": {
    "collapsed": true
   },
   "outputs": [],
   "source": [
    "# split data with 20 percent reserved for testing\n",
    "frac = .20\n",
    "x_train, x_test, y_train, y_test = \\\n",
    "    train_test_split(features, label, test_size=frac, random_state=0)"
   ]
  },
  {
   "cell_type": "code",
   "execution_count": 85,
   "metadata": {
    "collapsed": true
   },
   "outputs": [],
   "source": [
    "from sklearn.linear_model import LogisticRegression\n",
    "\n",
    "#logistic regression model\n",
    "lr_model = LogisticRegression() \n",
    "\n",
    "# Fit a new model and predict on test data\n",
    "lr_model = lr_model.fit(x_train, y_train)\n",
    "lr_predicted = lr_model.predict(x_test)"
   ]
  },
  {
   "cell_type": "markdown",
   "metadata": {},
   "source": [
    "I define a function called 'confusion' which will help me create a beautiful visualization (using a heatmap) to test our model's accuracy; how many TP, TN, FP, and FN the model predicts will be inuitive to see. "
   ]
  },
  {
   "cell_type": "code",
   "execution_count": 86,
   "metadata": {
    "collapsed": true
   },
   "outputs": [],
   "source": [
    "# Three classes in \"score\"\n",
    "labels = ['Low (1)', 'Medium (2)', 'High (3)']\n",
    "\n",
    "# Function to plot confusion matrix\n",
    "def confusion(test, predict, names, bins=3, title='Confusion Matrix'):\n",
    "\n",
    "    # Make a 2D histogram from the test and result arrays\n",
    "    pts, xe, ye = np.histogram2d(test, predict, bins)\n",
    "\n",
    "    # For simplicity we create a new DataFrame\n",
    "    pd_pts = pd.DataFrame(pts.astype(int), index=names, columns=names )\n",
    "    \n",
    "    hm = sns.heatmap(pd_pts, annot=True, fmt=\"d\")    \n",
    "    hm.axes.set_title(title, fontsize=20)\n",
    "    hm.axes.set_xlabel('Actual', fontsize=18)\n",
    "    hm.axes.set_ylabel('Predicted', fontsize=18)\n",
    "\n",
    "    return None"
   ]
  },
  {
   "cell_type": "markdown",
   "metadata": {},
   "source": [
    "In printing the accuracy score of the logistic regression model, we only get a score of less than 50%! This means that we would likely be better off guessing the position of each of new data point rather than using the model's prediction. This low score is expected, however, as the logsitic regression is not ideal for handling non-binary label data and small datasets. "
   ]
  },
  {
   "cell_type": "code",
   "execution_count": 94,
   "metadata": {},
   "outputs": [
    {
     "name": "stdout",
     "output_type": "stream",
     "text": [
      "Logistic Regression [TA Evaluation Data] Score = 45.2%\n",
      "\n"
     ]
    }
   ],
   "source": [
    "# Generate and display different evaluation metrics\n",
    "score = 100.0 * accuracy_score(y_test, lr_predicted)\n",
    "print(f'Logistic Regression [TA Evaluation Data] Score = {score:4.1f}%\\n')"
   ]
  },
  {
   "cell_type": "markdown",
   "metadata": {},
   "source": [
    "The logistic regression did not do too well. In fact, it seemed to do worse than random chance. \n",
    "\n",
    "- Percision: tp / (tp + fp) [ability of classifier not to label as positive a sample that is negative]\n",
    "- Recall: tp / (tp + fn) [ability to find all the positive samples]\n",
    "\n",
    "    1. For class 1 (Low Ratings), the model predicted 6 correctly and 6 wrong, yielding a percision score of .50. \n",
    "    2. For class 2 (Medium Ratings), the model perdicted 2 correctly and 3 incorrectly, yielding a percision score of.40. \n",
    "    3. For class 3 (High Ratings), the model perdicted 6 correctly, and 8 incorrectly, yielding a percision score of .43. \n",
    "\n",
    "\n"
   ]
  },
  {
   "cell_type": "code",
   "execution_count": 93,
   "metadata": {},
   "outputs": [
    {
     "name": "stdout",
     "output_type": "stream",
     "text": [
      "             precision    recall  f1-score   support\n",
      "\n",
      "          1       0.50      0.86      0.63         7\n",
      "          2       0.40      0.17      0.24        12\n",
      "          3       0.43      0.50      0.46        12\n",
      "\n",
      "avg / total       0.43      0.45      0.41        31\n",
      "\n"
     ]
    }
   ],
   "source": [
    "print(classification_report(y_test, lr_predicted))"
   ]
  },
  {
   "cell_type": "code",
   "execution_count": 95,
   "metadata": {},
   "outputs": [
    {
     "data": {
      "image/png": "[encoded data removed]",
      "text/plain": [
       "<matplotlib.figure.Figure at 0x18c9ce078d0>"
      ]
     },
     "metadata": {},
     "output_type": "display_data"
    }
   ],
   "source": [
    "confusion(y_test, lr_predicted, labels, 3, 'Logistic Regression Classification')"
   ]
  },
  {
   "cell_type": "markdown",
   "metadata": {},
   "source": [
    "----\n",
    "[[Back to TOC]](#Table-of-Contents)\n",
    "### Random Forest Classifier \n",
    "\n",
    "Let's see if the Random Forest Classifier, which uses bagging (boot strap aggregation), where random samples will be used to create several 'weak learning' decision trees, will do better. These multiple weak learners (decision trees that only see subsets of the data) will be combined to create a powerful model by averaging the predictions of the weak learners (or voting). \n",
    "\n",
    "I expect this model to perform much better than the logistic regression as the Random Forest is an ensemble predictor that can be very powerful given that a) it creates multiple decision trees, b) each decision tree only sees part of the data, c) the results are averaged (voted), which results in powerful predictions. Finally, The fact that it sub-sets the data also helps with avoiding over-fitting! \n",
    "\n",
    "Note: We can even add some more randomness with extra trees\n"
   ]
  },
  {
   "cell_type": "markdown",
   "metadata": {},
   "source": [
    "----\n",
    "What an improvement! The Random Forest Classifier gives us a much better prediction accuracy than the logistic regression. While the logistic regression was under 50% in accuracy, we reach nearly 70% accuracy with the Random Forest!"
   ]
  },
  {
   "cell_type": "code",
   "execution_count": 98,
   "metadata": {},
   "outputs": [
    {
     "name": "stdout",
     "output_type": "stream",
     "text": [
      "Random Forest prediction accuracy = 67.74%\n"
     ]
    }
   ],
   "source": [
    "# perfrom classification with RandomForestClassifier\n",
    "from sklearn.ensemble import RandomForestClassifier\n",
    "\n",
    "rfc = RandomForestClassifier(random_state=0)\n",
    "# Fit estimator to scaled training data\n",
    "rfc = rfc.fit(x_train, y_train)\n",
    "\n",
    "# Compute and display accuracy score\n",
    "score = 100.0 * rfc.score(x_test, y_test)\n",
    "print(f\"Random Forest prediction accuracy = {score:5.2f}%\")"
   ]
  },
  {
   "cell_type": "markdown",
   "metadata": {},
   "source": [
    "Out of curiosity, I printed out the features that were most important the prediction decision making process. Class size is overwhelmingly important, at 38.54%. Suprsingly, it seems as the being a native English speaker or not does not influence the model too much, at only 7.07%. It makes sense that the course and course instructor would be pretty important, some classes are just plain ol' boring!"
   ]
  },
  {
   "cell_type": "code",
   "execution_count": 99,
   "metadata": {},
   "outputs": [
    {
     "name": "stdout",
     "output_type": "stream",
     "text": [
      "english_speaker importance =  7.07%\n",
      "course_instructor importance = 27.17%\n",
      "course importance = 21.16%\n",
      "semester importance =  6.05%\n",
      "class_size importance = 38.54%\n"
     ]
    }
   ],
   "source": [
    "# Display feature importances \n",
    "for name, val in zip(col_names, rfc.feature_importances_):\n",
    "    print(f'{name} importance = {100.0*val:5.2f}%')"
   ]
  },
  {
   "cell_type": "markdown",
   "metadata": {},
   "source": [
    "The random forest classifier did quite well! It seems to be good predictor for our data, and we scored 67.74% before any hyperparameter tuning. \n",
    "\n",
    "- Percision: tp / (tp + fp) [ability of classifier not to label as positive a sample that is negative]\n",
    "- Recall: tp / (tp + fn) [ability to find all the positive samples]\n",
    "\n",
    "    1. For class 1 (Low Ratings), the model predicted 7 correctly and 5 wrong, yielding a percision score of .58. \n",
    "    2. For class 2 (Medium Ratings), the model perdicted 6 correctly and 2 incorrectly, yielding a percision score of.75. \n",
    "    3. For class 3 (High Ratings), the model perdicted 8 correctly, and 3 incorrectly, yielding a percision score of .73. \n"
   ]
  },
  {
   "cell_type": "code",
   "execution_count": 11,
   "metadata": {},
   "outputs": [
    {
     "name": "stdout",
     "output_type": "stream",
     "text": [
      "             precision    recall  f1-score   support\n",
      "\n",
      "    Low (1)       0.58      1.00      0.74         7\n",
      " Medium (2)       0.75      0.50      0.60        12\n",
      "   High (3)       0.73      0.67      0.70        12\n",
      "\n",
      "avg / total       0.70      0.68      0.67        31\n",
      "\n"
     ]
    }
   ],
   "source": [
    "# Predict on test data and report scores\n",
    "y_pred = rfc.predict(x_test)\n",
    "print(classification_report(y_test, y_pred, \\\n",
    "                            target_names = labels))"
   ]
  },
  {
   "cell_type": "code",
   "execution_count": 101,
   "metadata": {},
   "outputs": [
    {
     "data": {
      "image/png": "[encoded data removed]",
      "text/plain": [
       "<matplotlib.figure.Figure at 0x18c9d3ee630>"
      ]
     },
     "metadata": {},
     "output_type": "display_data"
    }
   ],
   "source": [
    "confusion(y_test, y_pred, labels, 3, 'Random Forest Classification')"
   ]
  },
  {
   "cell_type": "markdown",
   "metadata": {},
   "source": [
    "[[Back to TOC]](#Table-of-Contents)\n",
    "\n",
    "### Hyperparameter Tuning\n",
    "\n",
    "Even though our model did relatively well, I want to try and improve the model accuracy through some hyperparameter tuning. I used the default settings in the model initially, so perhaps the model can be tuned to generate more accurate predictions. This is fun! \n",
    "\n",
    "First, I print the current parameters to see what the model used when fitting the data; they are all default, so our model is not particularily optimized to the data. "
   ]
  },
  {
   "cell_type": "code",
   "execution_count": 102,
   "metadata": {},
   "outputs": [
    {
     "name": "stdout",
     "output_type": "stream",
     "text": [
      "Paramters  in use: \n",
      "\n",
      "{'bootstrap': True,\n",
      " 'class_weight': None,\n",
      " 'criterion': 'gini',\n",
      " 'max_depth': None,\n",
      " 'max_features': 'auto',\n",
      " 'max_leaf_nodes': None,\n",
      " 'min_impurity_decrease': 0.0,\n",
      " 'min_impurity_split': None,\n",
      " 'min_samples_leaf': 1,\n",
      " 'min_samples_split': 2,\n",
      " 'min_weight_fraction_leaf': 0.0,\n",
      " 'n_estimators': 10,\n",
      " 'n_jobs': 1,\n",
      " 'oob_score': False,\n",
      " 'random_state': 0,\n",
      " 'verbose': 0,\n",
      " 'warm_start': False}\n"
     ]
    }
   ],
   "source": [
    "#examine current hyperparamters \n",
    "from pprint import pprint\n",
    "print('Paramters  in use: \\n')\n",
    "pprint(rfc.get_params())"
   ]
  },
  {
   "cell_type": "markdown",
   "metadata": {},
   "source": [
    "[[Back to TOC]](#Table-of-Contents)\n",
    "### RandomizedSearchCV\n",
    "Maybe I would get a better score by using different paramters? Who knows? Let's try! There would be too many combanations for me to work through myself manually, so I'm going to call on my jolly good friend, RandomizedSearchCV, to help me iterate through random different combinations of the hyperparameters that would yield the best result. First, I'll make a parameter grid and then will fit this pram grid to my random search so I can see what the best params are.\n",
    "\n",
    "### StratifiedKFold \n",
    "To help our RandomizedSearchCV get even higher accuracy, we set cross-validation generator (CV) to a StratifiedKFold, which is a cross-validation object that returns stratified folds. "
   ]
  },
  {
   "cell_type": "code",
   "execution_count": 103,
   "metadata": {
    "collapsed": true
   },
   "outputs": [],
   "source": [
    "from sklearn.model_selection import RandomizedSearchCV\n",
    "from sklearn.model_selection import StratifiedKFold\n",
    "\n",
    "skf = StratifiedKFold(n_splits=5, random_state=23)\n",
    "\n",
    "random_params = {'n_estimators': [10, 70, 100, 300],\n",
    "                'bootstrap': [True, False],\n",
    "                'max_features': ['auto', 'sqrt'],\n",
    "                'min_samples_leaf': [1, 2, 3, 4],\n",
    "                'min_samples_split': [2, 5,6],\n",
    "                'class_weight':['balanced', None]}\n",
    "\n",
    "rfc_rand =RandomizedSearchCV(estimator=rfc, \n",
    "                             param_distributions=random_params,\n",
    "                            random_state=0, \n",
    "                            cv=skf)"
   ]
  },
  {
   "cell_type": "code",
   "execution_count": 104,
   "metadata": {},
   "outputs": [
    {
     "data": {
      "text/plain": [
       "RandomizedSearchCV(cv=StratifiedKFold(n_splits=5, random_state=23, shuffle=False),\n",
       "          error_score='raise',\n",
       "          estimator=RandomForestClassifier(bootstrap=True, class_weight=None, criterion='gini',\n",
       "            max_depth=None, max_features='auto', max_leaf_nodes=None,\n",
       "            min_impurity_decrease=0.0, min_impurity_split=None,\n",
       "            min_samples_leaf=1, min_samples_split=2,\n",
       "            min_weight_fraction_leaf=0.0, n_estimators=10, n_jobs=1,\n",
       "            oob_score=False, random_state=0, verbose=0, warm_start=False),\n",
       "          fit_params=None, iid=True, n_iter=10, n_jobs=1,\n",
       "          param_distributions={'n_estimators': [10, 70, 100, 300], 'bootstrap': [True, False], 'max_features': ['auto', 'sqrt'], 'min_samples_leaf': [1, 2, 3, 4], 'min_samples_split': [2, 5, 6], 'class_weight': ['balanced', None]},\n",
       "          pre_dispatch='2*n_jobs', random_state=0, refit=True,\n",
       "          return_train_score='warn', scoring=None, verbose=0)"
      ]
     },
     "execution_count": 104,
     "metadata": {},
     "output_type": "execute_result"
    }
   ],
   "source": [
    "# fit training data to the randomized search CV\n",
    "rfc_rand.fit(x_train, y_train)\n"
   ]
  },
  {
   "cell_type": "code",
   "execution_count": 105,
   "metadata": {},
   "outputs": [
    {
     "data": {
      "text/plain": [
       "{'bootstrap': False,\n",
       " 'class_weight': 'balanced',\n",
       " 'max_features': 'sqrt',\n",
       " 'min_samples_leaf': 1,\n",
       " 'min_samples_split': 6,\n",
       " 'n_estimators': 100}"
      ]
     },
     "execution_count": 105,
     "metadata": {},
     "output_type": "execute_result"
    }
   ],
   "source": [
    "# check out our best params!\n",
    "rfc_rand.best_params_"
   ]
  },
  {
   "cell_type": "markdown",
   "metadata": {},
   "source": [
    "### Let's fit with our new params\n",
    "\n",
    "The model accuracy fit with the new hyperparmeters increases to 71.0% accuracy, an improvement using the params returned from the RandomizedGridSearchCV! Time to do a little dance and celebrate!"
   ]
  },
  {
   "cell_type": "code",
   "execution_count": 113,
   "metadata": {},
   "outputs": [
    {
     "name": "stdout",
     "output_type": "stream",
     "text": [
      "Random Forest prediction accuracy = 71.0%\n"
     ]
    }
   ],
   "source": [
    "rfc_new_params = RandomForestClassifier(bootstrap=False, \n",
    "                                        max_features='sqrt',\n",
    "                                        min_samples_leaf=1,\n",
    "                                        min_samples_split=6,\n",
    "                                        n_estimators=100,\n",
    "                                        class_weight='balanced',\n",
    "                                        random_state=0)\n",
    "\n",
    "rfc_new_params.fit(x_train, y_train)\n",
    "\n",
    "score = 100.0 * rfc_new_params.score(x_test, y_test)\n",
    "print(f\"Random Forest prediction accuracy = {score:4.1f}%\")\n",
    "                                        "
   ]
  },
  {
   "cell_type": "markdown",
   "metadata": {},
   "source": [
    "----\n",
    "Let's compare our RFC that used default params against our params returned by the search.\n",
    "\n",
    "*RFC using default Params:*\n",
    "   1. For class 1 (Low Ratings), the model predicted 7 correctly and 6 wrong, yielding a percision score of .58\n",
    "   2. For class 2 (Medium Ratings), the model perdicted 6 correctly and 2 incorrectly, yielding a percision score of.75\n",
    "   3. For class 3 (High Ratings), the model perdicted 8 correctly, and 3 incorrectly, yielding a percision score of .73 \n",
    "   \n",
    "   \n",
    "*RFC using New Params:*\n",
    "   1. For class 1 (Low Ratings), the model predicted 7 correctly and 4 wrong, yielding a percision score of .64. \n",
    "   2. For class 2 (Medium Ratings), the model perdicted 6 correctly and 3 incorrectly, yielding a percision score of.67 \n",
    "   3. For class 3 (High Ratings), the model perdicted 9 correctly, and 2 incorrectly, yielding a percision score of .82"
   ]
  },
  {
   "cell_type": "code",
   "execution_count": 111,
   "metadata": {},
   "outputs": [
    {
     "name": "stdout",
     "output_type": "stream",
     "text": [
      "             precision    recall  f1-score   support\n",
      "\n",
      "          1       0.64      1.00      0.78         7\n",
      "          2       0.67      0.50      0.57        12\n",
      "          3       0.82      0.75      0.78        12\n",
      "\n",
      "avg / total       0.72      0.71      0.70        31\n",
      "\n"
     ]
    }
   ],
   "source": [
    "print(classification_report(y_test, rfc_new_predict))"
   ]
  },
  {
   "cell_type": "code",
   "execution_count": 114,
   "metadata": {},
   "outputs": [
    {
     "data": {
      "image/png": "[encoded data removed]",
      "text/plain": [
       "<matplotlib.figure.Figure at 0x18c9d3e1358>"
      ]
     },
     "metadata": {},
     "output_type": "display_data"
    }
   ],
   "source": [
    "confusion(y_test, rfc_new_predict, labels, 3, \n",
    "          'Random Forest Classification - Tuned Params')"
   ]
  },
  {
   "cell_type": "markdown",
   "metadata": {},
   "source": [
    "[[Back to TOC]](#Table-of-Contents)\n",
    "### Support Vector Machine: Classification\n",
    "\n",
    "The Suport Vector Machine Classifier (SVM) is a supervised machine learning algorithm to classify or predict data by categorizing data (allocating data to separate feature spaces). Unfortunately, like the logistic regression, default SVM works best with binary outcome classifications (although it can be manipulated for multiclass classifications). However, SVM is a good algorithm to handle smaller data samples. This is because not all the data points are used; only the support vectors are used in seperating the hyperplanes in feature space. The best choice hyperplane is the one that leaves the maximum margin from both classes, using the support vector.\n",
    "\n",
    "As such, I suspect that this model will perform signifcantly better than the logistic regression in classifying the data using default parameters. It might not do as well as RFC as the RFC was an ensemble algorithm. However, because the SVM does not use all data points, it may be less prone to overfitting. "
   ]
  },
  {
   "cell_type": "markdown",
   "metadata": {},
   "source": [
    "---\n",
    "Indeed, we see that using the default params for SVC gives a much better accuracy score than the logistic regression (45%), but it does not do as well as the RFC (67%). However, the SVC gives us a pretty good score (58%). "
   ]
  },
  {
   "cell_type": "code",
   "execution_count": 117,
   "metadata": {},
   "outputs": [
    {
     "name": "stdout",
     "output_type": "stream",
     "text": [
      "SVC prediction accuracy = 58.06%\n"
     ]
    }
   ],
   "source": [
    "from sklearn.svm import SVC\n",
    "from sklearn.model_selection import GridSearchCV\n",
    "\n",
    "# Using default params\n",
    "svc = SVC()\n",
    "svc.fit(x_train, y_train)\n",
    "\n",
    "score = 100.0 * svc.score(x_test, y_test)\n",
    "print(f\"SVC prediction accuracy = {score:5.2f}%\")"
   ]
  },
  {
   "cell_type": "markdown",
   "metadata": {},
   "source": [
    "[[Back to TOC]](#Table-of-Contents)\n",
    "### GridSearchCV \n",
    "Let's see if tuning the hyperparameters will increase our accuracy score! Here, I use a GridSearchCV which will iterate through all the hyperparmeters I give it, in this case, just the \"C\" and \"Kernel\" params. Once again, I use a stratifiedKFold for the cross-validation parameter (CV). We fit the grid search and find the best params.\n"
   ]
  },
  {
   "cell_type": "code",
   "execution_count": 119,
   "metadata": {},
   "outputs": [
    {
     "data": {
      "text/plain": [
       "{'C': 100, 'kernel': 'rbf'}"
      ]
     },
     "execution_count": 119,
     "metadata": {},
     "output_type": "execute_result"
    }
   ],
   "source": [
    "#use stratifiedkfolds for cross validation\n",
    "skf = StratifiedKFold(n_splits=5, random_state=23)\n",
    "\n",
    "# search through these params to increase score\n",
    "svc_params = {'C': [1, 10, 100], 'kernel':['rbf', 'linear']}\n",
    "\n",
    "#grid search CV to try all the combinations with skf\n",
    "svc_gridsearch = GridSearchCV(estimator=svc, \n",
    "                             param_grid=svc_params,\n",
    "                             cv=skf)\n",
    "\n",
    "# fit training data to the grid search CV\n",
    "svc_gridsearch.fit(x_train, y_train)\n",
    "\n",
    "svc_gridsearch.best_params_"
   ]
  },
  {
   "cell_type": "markdown",
   "metadata": {},
   "source": [
    "### Fit with new params\n",
    "\n",
    "Awesome! Fitting with the params returned by the grid search CV, the model's prediction accuracy increases nearly 4 percentage points! SVM is a good algorithm because it works well with small data sets (the support vectors are used to make classifications in hyperplanes, so not a huge amount of data is needed). However, it appears the RFC still scores better overall."
   ]
  },
  {
   "cell_type": "code",
   "execution_count": 120,
   "metadata": {},
   "outputs": [
    {
     "name": "stdout",
     "output_type": "stream",
     "text": [
      "SVC_new prediction accuracy = 61.29%\n"
     ]
    }
   ],
   "source": [
    "svc_new = SVC(C=100, kernel='rbf')\n",
    "svc_new.fit(x_train, y_train)\n",
    "\n",
    "score = 100.0 * svc_new.score(x_test, y_test)\n",
    "print(f\"SVC_new prediction accuracy = {score:5.2f}%\")"
   ]
  },
  {
   "cell_type": "markdown",
   "metadata": {
    "collapsed": true
   },
   "source": [
    "[[Back to TOC]](#Table-of-Contents)\n",
    "### Thank you for this opportunity! "
   ]
  },
  {
   "cell_type": "markdown",
   "metadata": {},
   "source": [
    "Concluding notes: Try working with KNN over the SVM or logistic regression as the the KNN can work well with classification of data beyond binary classifications whereby new data points are voted on based on its K nearest neighbors. "
   ]
  },
  {
   "cell_type": "markdown",
   "metadata": {
    "collapsed": true
   },
   "source": [
    " © Kathy Tian"
   ]
  },
  {
   "cell_type": "code",
   "execution_count": null,
   "metadata": {
    "collapsed": true
   },
   "outputs": [],
   "source": []
  }
 ],
 "metadata": {
  "kernelspec": {
   "display_name": "Python 3",
   "language": "python",
   "name": "python3"
  },
  "language_info": {
   "codemirror_mode": {
    "name": "ipython",
    "version": 3
   },
   "file_extension": ".py",
   "mimetype": "text/x-python",
   "name": "python",
   "nbconvert_exporter": "python",
   "pygments_lexer": "ipython3",
   "version": "3.6.3"
  }
 },
 "nbformat": 4,
 "nbformat_minor": 2
}
